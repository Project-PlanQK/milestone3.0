{
  "nbformat": 4,
  "nbformat_minor": 0,
  "metadata": {
    "colab": {
      "provenance": []
    },
    "kernelspec": {
      "name": "python3",
      "display_name": "Python 3"
    },
    "language_info": {
      "name": "python"
    }
  },
  "cells": [
    {
      "cell_type": "code",
      "source": [
        "pip install --upgrade planqk-service-sdk"
      ],
      "metadata": {
        "colab": {
          "base_uri": "https://localhost:8080/"
        },
        "id": "sauniwbkch4O",
        "outputId": "c78618e4-d51b-4e2d-f089-d21cf49458cc"
      },
      "execution_count": null,
      "outputs": [
        {
          "output_type": "stream",
          "name": "stdout",
          "text": [
            "Collecting planqk-service-sdk\n",
            "  Downloading planqk_service_sdk-1.9.0-py3-none-any.whl.metadata (1.6 kB)\n",
            "Collecting Authlib (from planqk-service-sdk)\n",
            "  Downloading Authlib-1.4.0-py2.py3-none-any.whl.metadata (3.9 kB)\n",
            "Requirement already satisfied: httpx in /usr/local/lib/python3.10/dist-packages (from planqk-service-sdk) (0.28.1)\n",
            "Requirement already satisfied: pydantic>=2 in /usr/local/lib/python3.10/dist-packages (from planqk-service-sdk) (2.10.4)\n",
            "Requirement already satisfied: annotated-types>=0.6.0 in /usr/local/lib/python3.10/dist-packages (from pydantic>=2->planqk-service-sdk) (0.7.0)\n",
            "Requirement already satisfied: pydantic-core==2.27.2 in /usr/local/lib/python3.10/dist-packages (from pydantic>=2->planqk-service-sdk) (2.27.2)\n",
            "Requirement already satisfied: typing-extensions>=4.12.2 in /usr/local/lib/python3.10/dist-packages (from pydantic>=2->planqk-service-sdk) (4.12.2)\n",
            "Requirement already satisfied: cryptography in /usr/local/lib/python3.10/dist-packages (from Authlib->planqk-service-sdk) (43.0.3)\n",
            "Requirement already satisfied: anyio in /usr/local/lib/python3.10/dist-packages (from httpx->planqk-service-sdk) (3.7.1)\n",
            "Requirement already satisfied: certifi in /usr/local/lib/python3.10/dist-packages (from httpx->planqk-service-sdk) (2024.12.14)\n",
            "Requirement already satisfied: httpcore==1.* in /usr/local/lib/python3.10/dist-packages (from httpx->planqk-service-sdk) (1.0.7)\n",
            "Requirement already satisfied: idna in /usr/local/lib/python3.10/dist-packages (from httpx->planqk-service-sdk) (3.10)\n",
            "Requirement already satisfied: h11<0.15,>=0.13 in /usr/local/lib/python3.10/dist-packages (from httpcore==1.*->httpx->planqk-service-sdk) (0.14.0)\n",
            "Requirement already satisfied: sniffio>=1.1 in /usr/local/lib/python3.10/dist-packages (from anyio->httpx->planqk-service-sdk) (1.3.1)\n",
            "Requirement already satisfied: exceptiongroup in /usr/local/lib/python3.10/dist-packages (from anyio->httpx->planqk-service-sdk) (1.2.2)\n",
            "Requirement already satisfied: cffi>=1.12 in /usr/local/lib/python3.10/dist-packages (from cryptography->Authlib->planqk-service-sdk) (1.17.1)\n",
            "Requirement already satisfied: pycparser in /usr/local/lib/python3.10/dist-packages (from cffi>=1.12->cryptography->Authlib->planqk-service-sdk) (2.22)\n",
            "Downloading planqk_service_sdk-1.9.0-py3-none-any.whl (22 kB)\n",
            "Downloading Authlib-1.4.0-py2.py3-none-any.whl (225 kB)\n",
            "\u001b[2K   \u001b[90m━━━━━━━━━━━━━━━━━━━━━━━━━━━━━━━━━━━━━━━━\u001b[0m \u001b[32m225.5/225.5 kB\u001b[0m \u001b[31m4.9 MB/s\u001b[0m eta \u001b[36m0:00:00\u001b[0m\n",
            "\u001b[?25hInstalling collected packages: Authlib, planqk-service-sdk\n",
            "Successfully installed Authlib-1.4.0 planqk-service-sdk-1.9.0\n"
          ]
        }
      ]
    },
    {
      "cell_type": "code",
      "source": [
        "from planqk.service.client import PlanqkServiceClient\n",
        "\n",
        "# Dein Consumer Key und Secret\n",
        "# Key und Secret müssen über die Anwendung in der PLANQK Plattform abgerufen werden\n",
        "consumer_key = \"Enter your key here\"\n",
        "consumer_secret = \"Enter your secret here\"\n",
        "\n",
        "# Service-Endpunkt\n",
        "service_endpoint = \"https://gateway.platform.planqk.de/kipu-quantum/kipu-digitized-counterdiabatic-quantum-optimization---dcqo/1.0.0\"\n",
        "\n",
        "client = PlanqkServiceClient(service_endpoint, consumer_key, consumer_secret)\n",
        "\n",
        "# Beispiel für Eingabedaten und Parameter\n",
        "data = {\n",
        "    \"optimization\": {\n",
        "        \"coefficients\": {\n",
        "            \"(0,)\": 0.05009721367530462,\n",
        "            \"(0, 1)\": 0.1589373302733451,\n",
        "            \"(0, 2)\": -0.1465938630044573,\n",
        "            \"(0, 3)\": 0.1444447352374391,\n",
        "            \"(1,)\": -0.008103805367511346,\n",
        "            \"(1, 2)\": -0.10385855447216596,\n",
        "            \"(1, 3)\": 0.014771937124279128,\n",
        "            \"(2,)\": -0.5638808178837599,\n",
        "            \"(2, 3)\": -0.1014721471152484,\n",
        "            \"(3,)\": 0.023722798165331543\n",
        "        },\n",
        "        \"annealing_time\": 0.7,\n",
        "        \"trotter_steps\": 2,\n",
        "        \"mode\": \"CD\"\n",
        "    }\n",
        "}\n",
        "\n",
        "params = {\n",
        "    \"backend\": \"azure.ionq.simulator\",\n",
        "    \"shots\": 1024\n",
        "}\n",
        "\n",
        "# Ausführung starten\n",
        "job = client.start_execution(data=data, params=params)\n",
        "\n",
        "# Status der Ausführung überprüfen\n",
        "status = client.get_status(job.id)\n",
        "print(\"Status:\", status)\n",
        "\n",
        "# Ergebnis der Ausführung abrufen\n",
        "result = client.get_result(job.id)\n",
        "print(\"Ergebnis:\", result)"
      ],
      "metadata": {
        "colab": {
          "base_uri": "https://localhost:8080/"
        },
        "id": "wNBRpybCEYls",
        "outputId": "93c6a8ed-7a80-4472-924e-715bb4cc8bf7"
      },
      "execution_count": null,
      "outputs": [
        {
          "output_type": "stream",
          "name": "stdout",
          "text": [
            "Status: id='7cfcade9-6400-4855-be63-798f632d31d4' status=<JobStatus.PENDING: 'PENDING'> created_at='2025-01-12 22:04:04' started_at=None ended_at=None\n",
            "Ergebnis: {'backend_name': 'azure.ionq.simulator', 'job_id': 'e1253d12-1d00-40c8-918b-40ddbbb92070', 'counts': {'0000': 34, '0001': 111, '0010': 1, '0011': 5, '0100': 116, '0101': 158, '0110': 3, '0111': 48, '1000': 244, '1001': 84, '1010': 35, '1011': 46, '1100': 51, '1101': 16, '1110': 43, '1111': 29}, 'shots': 1024}\n"
          ]
        }
      ]
    }
  ]
}